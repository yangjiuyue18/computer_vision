{
 "cells": [
  {
   "cell_type": "markdown",
   "metadata": {},
   "source": [
    "## Модель классификации риса на основе ResNet50  \n",
    "\n",
    "В этом проекте для решения задачи классификации пяти сортов риса с помощью миграционного обучения была использована предварительно обученная модель ResNet50.\n",
    "\n",
    "[Rice Images Dataset](https://www.kaggle.com/datasets/mbsoroush/rice-images-dataset)"
   ]
  },
  {
   "cell_type": "code",
   "execution_count": null,
   "metadata": {},
   "outputs": [],
   "source": [
    "import splitfolders\n",
    "\n",
    "data_path = \"../rice/rice-dataset\"\n",
    "output_path = \"../rice/rice-dataset-split\"\n",
    "\n",
    "# 划分为 70% 训练集，15% 验证集，15% 测试集\n",
    "#  Разделены на 70% обучающего набора, 15% валидационного набора, 15% тестового набора\n",
    "splitfolders.ratio(data_path, output=output_path, seed=42, ratio=(0.7, 0.15, 0.15))\n",
    "\n",
    "print(\"数据集划分完成，存储在:\", output_path)\n"
   ]
  },
  {
   "cell_type": "markdown",
   "metadata": {},
   "source": [
    "GPU switch command ( TCC ): nvidia-smi -dm 1  \n",
    "GPU switch command ( WDDM ): nvidia-smi -dm 0  \n",
    "output: All done"
   ]
  },
  {
   "cell_type": "code",
   "execution_count": 12,
   "metadata": {},
   "outputs": [
    {
     "name": "stdout",
     "output_type": "stream",
     "text": [
      "PyTorch 版本: 2.5.1+cu118\n",
      "CUDA 是否可用: True\n",
      "设备名称: NVIDIA GeForce RTX 4060 Laptop GPU\n",
      "CUDA 版本: 11.8\n",
      "cuDNN 版本: 90100\n"
     ]
    }
   ],
   "source": [
    "import torch\n",
    "\n",
    "print(\"PyTorch 版本:\", torch.__version__)\n",
    "print(\"CUDA 是否可用:\", torch.cuda.is_available())\n",
    "if torch.cuda.is_available():\n",
    "    print(\"设备名称:\", torch.cuda.get_device_name(0))\n",
    "else:\n",
    "    print(\"未检测到 CUDA\")\n",
    "print(\"CUDA 版本:\", torch.version.cuda)\n",
    "print(\"cuDNN 版本:\", torch.backends.cudnn.version())\n"
   ]
  },
  {
   "cell_type": "code",
   "execution_count": 4,
   "metadata": {},
   "outputs": [],
   "source": [
    "import os\n",
    "import torch\n",
    "import torch.nn as nn\n",
    "import torch.optim as optim\n",
    "from torchvision import models, transforms, datasets\n",
    "from sklearn.metrics import classification_report, confusion_matrix\n",
    "import matplotlib.pyplot as plt\n",
    "import numpy as np\n"
   ]
  },
  {
   "cell_type": "markdown",
   "metadata": {},
   "source": [
    "数据加载与预处理  \n",
    "Загрузка и предварительная обработка данных"
   ]
  },
  {
   "cell_type": "code",
   "execution_count": 13,
   "metadata": {},
   "outputs": [
    {
     "name": "stdout",
     "output_type": "stream",
     "text": [
      "Classes: ['Arborio', 'Basmati', 'Ipsala', 'Jasmine', 'Karacadag']\n"
     ]
    }
   ],
   "source": [
    "data_dir = \"../rice/rice-dataset-split\"\n",
    "\n",
    "# 数据增强与预处理\n",
    "# Расширение и предварительная обработка данных\n",
    "transform = {\n",
    "    \"train\": transforms.Compose([\n",
    "        transforms.Resize((224, 224)),  # 调整大小 изменить размер\n",
    "        transforms.RandomHorizontalFlip(),  # 随机水平翻转\n",
    "        transforms.RandomRotation(15),  # 随机旋转\n",
    "        transforms.ToTensor(),\n",
    "        transforms.Normalize([0.485, 0.456, 0.406], [0.229, 0.224, 0.225])\n",
    "    ]),\n",
    "    \"val\": transforms.Compose([\n",
    "        transforms.Resize((224, 224)),\n",
    "        transforms.ToTensor(),\n",
    "        transforms.Normalize([0.485, 0.456, 0.406], [0.229, 0.224, 0.225])\n",
    "    ])\n",
    "}\n",
    "\n",
    "# 数据加载器\n",
    "# Загрузчик данных\n",
    "batch_size = 32\n",
    "\n",
    "train_dataset = datasets.ImageFolder(os.path.join(data_dir, \"train\"), transform=transform[\"train\"])\n",
    "val_dataset = datasets.ImageFolder(os.path.join(data_dir, \"val\"), transform=transform[\"val\"])\n",
    "test_dataset = datasets.ImageFolder(os.path.join(data_dir, \"test\"), transform=transform[\"val\"])\n",
    "\n",
    "train_loader = torch.utils.data.DataLoader(train_dataset, batch_size=batch_size, shuffle=True)\n",
    "val_loader = torch.utils.data.DataLoader(val_dataset, batch_size=batch_size, shuffle=False)\n",
    "test_loader = torch.utils.data.DataLoader(test_dataset, batch_size=batch_size, shuffle=False)\n",
    "\n",
    "# Category mapping\n",
    "class_names = train_dataset.classes\n",
    "print(\"Classes:\", class_names)\n"
   ]
  },
  {
   "cell_type": "markdown",
   "metadata": {},
   "source": [
    "加载ResNet50，并替换分类层  \n",
    "Загрузите ResNet50 и замените слой классификации"
   ]
  },
  {
   "cell_type": "code",
   "execution_count": null,
   "metadata": {},
   "outputs": [
    {
     "name": "stderr",
     "output_type": "stream",
     "text": [
      "C:\\Users\\yty43\\AppData\\Roaming\\Python\\Python311\\site-packages\\torchvision\\models\\_utils.py:208: UserWarning: The parameter 'pretrained' is deprecated since 0.13 and may be removed in the future, please use 'weights' instead.\n",
      "  warnings.warn(\n",
      "C:\\Users\\yty43\\AppData\\Roaming\\Python\\Python311\\site-packages\\torchvision\\models\\_utils.py:223: UserWarning: Arguments other than a weight enum or `None` for 'weights' are deprecated since 0.13 and may be removed in the future. The current behavior is equivalent to passing `weights=ResNet50_Weights.IMAGENET1K_V1`. You can also use `weights=ResNet50_Weights.DEFAULT` to get the most up-to-date weights.\n",
      "  warnings.warn(msg)\n"
     ]
    }
   ],
   "source": [
    "# 加载预训练模型 ResNet50\n",
    "# Загрузка предварительно обученной модели ResNet50\n",
    "device = torch.device(\"cuda\" if torch.cuda.is_available() else \"cpu\")\n",
    "model = models.resnet50(pretrained=True)\n",
    "\n",
    "num_features = model.fc.in_features\n",
    "model.fc = nn.Linear(num_features, len(class_names))  # Replace with rice classification\n",
    "\n",
    "model = model.to(device)\n"
   ]
  },
  {
   "cell_type": "markdown",
   "metadata": {},
   "source": [
    "定义损失函数和优化器  \n",
    "Определение функции потерь и оптимизатора"
   ]
  },
  {
   "cell_type": "code",
   "execution_count": null,
   "metadata": {},
   "outputs": [],
   "source": [
    "criterion = nn.CrossEntropyLoss()\n",
    "optimizer = optim.Adam(model.parameters(), lr=0.001)\n"
   ]
  },
  {
   "cell_type": "markdown",
   "metadata": {},
   "source": [
    "model"
   ]
  },
  {
   "cell_type": "code",
   "execution_count": null,
   "metadata": {},
   "outputs": [],
   "source": [
    "def train_model(model, train_loader, val_loader, criterion, optimizer, num_epochs=10):\n",
    "    best_model_wts = None\n",
    "    best_acc = 0.0\n",
    "    history = {\"train_acc\": [], \"val_acc\": []}\n",
    "\n",
    "    for epoch in range(num_epochs):\n",
    "        print(f\"Epoch {epoch+1}/{num_epochs}\")\n",
    "\n",
    "        # training \n",
    "        model.train()\n",
    "        running_loss, correct, total = 0.0, 0, 0\n",
    "        for inputs, labels in train_loader:\n",
    "            inputs, labels = inputs.to(device), labels.to(device)\n",
    "\n",
    "            optimizer.zero_grad()\n",
    "            outputs = model(inputs)\n",
    "            loss = criterion(outputs, labels)\n",
    "            loss.backward()\n",
    "            optimizer.step()\n",
    "\n",
    "            running_loss += loss.item() * inputs.size(0)\n",
    "            _, preds = torch.max(outputs, 1)\n",
    "            correct += torch.sum(preds == labels.data)\n",
    "            total += labels.size(0)\n",
    "\n",
    "        train_acc = correct.double() / total\n",
    "        history[\"train_acc\"].append(train_acc.item())\n",
    "\n",
    "        # validation\n",
    "        model.eval()\n",
    "        correct, total = 0, 0\n",
    "        with torch.no_grad():\n",
    "            for inputs, labels in val_loader:\n",
    "                inputs, labels = inputs.to(device), labels.to(device)\n",
    "                outputs = model(inputs)\n",
    "                _, preds = torch.max(outputs, 1)\n",
    "                correct += torch.sum(preds == labels.data)\n",
    "                total += labels.size(0)\n",
    "\n",
    "        val_acc = correct.double() / total\n",
    "        history[\"val_acc\"].append(val_acc.item())\n",
    "\n",
    "        print(f\"Train Accuracy: {train_acc:.4f} | Validation Accuracy: {val_acc:.4f}\")\n",
    "\n",
    "        # 保存最优模型\n",
    "        # Сохранение оптимальной модели\n",
    "        if val_acc > best_acc:\n",
    "            best_acc = val_acc\n",
    "            best_model_wts = model.state_dict()\n",
    "\n",
    "    # 加载最优权重\n",
    "    # Загрузка оптимальных весов\n",
    "    if best_model_wts:\n",
    "        model.load_state_dict(best_model_wts)\n",
    "\n",
    "    return model, history\n"
   ]
  },
  {
   "cell_type": "markdown",
   "metadata": {},
   "source": [
    "训练和保存模型  \n",
    "Модели обучения и экономии"
   ]
  },
  {
   "cell_type": "code",
   "execution_count": null,
   "metadata": {},
   "outputs": [
    {
     "name": "stdout",
     "output_type": "stream",
     "text": [
      "Epoch 1/10\n",
      "Train Accuracy: 0.9741 | Validation Accuracy: 0.8660\n",
      "Epoch 2/10\n",
      "Train Accuracy: 0.9898 | Validation Accuracy: 0.9943\n",
      "Epoch 3/10\n",
      "Train Accuracy: 0.9938 | Validation Accuracy: 0.9941\n",
      "Epoch 4/10\n",
      "Train Accuracy: 0.9946 | Validation Accuracy: 0.9915\n",
      "Epoch 5/10\n",
      "Train Accuracy: 0.9954 | Validation Accuracy: 0.9961\n",
      "Epoch 6/10\n",
      "Train Accuracy: 0.9946 | Validation Accuracy: 0.9984\n",
      "Epoch 7/10\n",
      "Train Accuracy: 0.9970 | Validation Accuracy: 0.9980\n",
      "Epoch 8/10\n",
      "Train Accuracy: 0.9955 | Validation Accuracy: 0.9790\n",
      "Epoch 9/10\n",
      "Train Accuracy: 0.9971 | Validation Accuracy: 0.9992\n",
      "Epoch 10/10\n",
      "Train Accuracy: 0.9972 | Validation Accuracy: 0.9979\n"
     ]
    }
   ],
   "source": [
    "num_epochs = 10\n",
    "model, history = train_model(model, train_loader, val_loader, criterion, optimizer, num_epochs)\n",
    "\n",
    "torch.save(model.state_dict(), \"resnet50_rice_classification.pth\")"
   ]
  },
  {
   "cell_type": "markdown",
   "metadata": {},
   "source": [
    "测试模型  \n",
    "тестовая модель"
   ]
  },
  {
   "cell_type": "code",
   "execution_count": null,
   "metadata": {},
   "outputs": [
    {
     "name": "stdout",
     "output_type": "stream",
     "text": [
      "Test Accuracy: 0.9977\n"
     ]
    }
   ],
   "source": [
    "def test_model(model, test_loader):\n",
    "    model.eval()\n",
    "    correct, total = 0, 0\n",
    "    y_true, y_pred = [], []\n",
    "\n",
    "    with torch.no_grad():\n",
    "        for inputs, labels in test_loader:\n",
    "            inputs, labels = inputs.to(device), labels.to(device)\n",
    "            outputs = model(inputs)\n",
    "            _, preds = torch.max(outputs, 1)\n",
    "            correct += torch.sum(preds == labels.data)\n",
    "            total += labels.size(0)\n",
    "\n",
    "            y_true.extend(labels.cpu().numpy())\n",
    "            y_pred.extend(preds.cpu().numpy())\n",
    "\n",
    "    print(f\"Test Accuracy: {correct.double() / total:.4f}\")\n",
    "    return y_true, y_pred\n",
    "\n",
    "y_true, y_pred = test_model(model, test_loader)\n"
   ]
  },
  {
   "cell_type": "markdown",
   "metadata": {},
   "source": [
    "混淆矩阵与分类报告  \n",
    "Матрица смешения и отчет о классификации"
   ]
  },
  {
   "cell_type": "code",
   "execution_count": null,
   "metadata": {},
   "outputs": [
    {
     "name": "stdout",
     "output_type": "stream",
     "text": [
      "              precision    recall  f1-score   support\n",
      "\n",
      "     Arborio       0.99      1.00      1.00      2250\n",
      "     Basmati       1.00      1.00      1.00      2250\n",
      "      Ipsala       1.00      1.00      1.00      2250\n",
      "     Jasmine       1.00      1.00      1.00      2250\n",
      "   Karacadag       1.00      0.99      1.00      2250\n",
      "\n",
      "    accuracy                           1.00     11250\n",
      "   macro avg       1.00      1.00      1.00     11250\n",
      "weighted avg       1.00      1.00      1.00     11250\n",
      "\n"
     ]
    },
    {
     "data": {
      "image/png": "[encoded data removed]",
      "text/plain": [
       "<Figure size 800x800 with 2 Axes>"
      ]
     },
     "metadata": {},
     "output_type": "display_data"
    }
   ],
   "source": [
    "from sklearn.metrics import classification_report, confusion_matrix\n",
    "\n",
    "print(classification_report(y_true, y_pred, target_names=class_names))\n",
    "\n",
    "cm = confusion_matrix(y_true, y_pred)\n",
    "plt.figure(figsize=(8, 8))\n",
    "plt.imshow(cm, interpolation=\"nearest\", cmap=plt.cm.Blues)\n",
    "plt.colorbar()\n",
    "plt.title(\"Confusion Matrix\")\n",
    "plt.show()\n"
   ]
  }
 ],
 "metadata": {
  "kernelspec": {
   "display_name": "base",
   "language": "python",
   "name": "python3"
  },
  "language_info": {
   "codemirror_mode": {
    "name": "ipython",
    "version": 3
   },
   "file_extension": ".py",
   "mimetype": "text/x-python",
   "name": "python",
   "nbconvert_exporter": "python",
   "pygments_lexer": "ipython3",
   "version": "3.11.4"
  }
 },
 "nbformat": 4,
 "nbformat_minor": 2
}
